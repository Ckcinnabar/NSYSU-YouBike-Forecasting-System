{
  "nbformat": 4,
  "nbformat_minor": 0,
  "metadata": {
    "colab": {
      "provenance": []
    },
    "kernelspec": {
      "name": "python3",
      "display_name": "Python 3"
    },
    "language_info": {
      "name": "python"
    }
  },
  "cells": [
    {
      "cell_type": "code",
      "execution_count": null,
      "metadata": {
        "id": "9Apn8iXSX3ey"
      },
      "outputs": [],
      "source": [
        "pip install scikit-learn statsmodels -qq"
      ]
    },
    {
      "cell_type": "code",
      "source": [
        "import pandas as pd\n",
        "import requests\n",
        "import time\n",
        "import os\n",
        "from statsmodels.tsa.arima.model import ARIMA\n",
        "import warnings\n",
        "from statsmodels.tools.sm_exceptions import ConvergenceWarning\n",
        "warnings.simplefilter('ignore', ConvergenceWarning)\n",
        "warnings.simplefilter('ignore', FutureWarning)"
      ],
      "metadata": {
        "id": "V2m1Bla63Ez_"
      },
      "execution_count": null,
      "outputs": []
    },
    {
      "cell_type": "code",
      "source": [
        "client_id = 'XXXXXXXXXXXXXXXXXXXXXXXXX'\n",
        "client_secret = 'XXXXXXXXXXXXXXXXXXXXXXXXXX'\n",
        "token_url = \"https://tdx.transportdata.tw/auth/realms/TDXConnect/protocol/openid-connect/token\"\n",
        "base_url = \"https://tdx.transportdata.tw/api/advanced/v2/Bike\"\n",
        "availability_endpoint = \"/Availability/NearBy\"\n",
        "station_endpoint = \"/Station/NearBy\"\n",
        "top = \"30\"\n",
        "lat = \"22.62752590909029\"\n",
        "lng = \"120.26465291318681\"\n",
        "radius = \"1000\"\n",
        "AVAILABILITY_URL = f\"{base_url}{availability_endpoint}?%24top={top}&%24spatialFilter=nearby%28{lat}%2C%20{lng}%2C%20{radius}%29&%24format=JSON\"\n",
        "STATION_URL = f\"{base_url}{station_endpoint}?%24top={top}&%24spatialFilter=nearby%28{lat}%2C%20{lng}%2C%20{radius}%29&%24format=JSON\""
      ],
      "metadata": {
        "id": "tPxskKQg3GZA"
      },
      "execution_count": null,
      "outputs": []
    },
    {
      "cell_type": "code",
      "source": [
        "class TDX():\n",
        "    def __init__(self, client_id, client_secret):\n",
        "        self.client_id = client_id\n",
        "        self.client_secret = client_secret\n",
        "\n",
        "    def get_token(self):\n",
        "        headers = {'content-type': 'application/x-www-form-urlencoded'}\n",
        "        data = {\n",
        "            'grant_type': 'client_credentials',\n",
        "            'client_id': self.client_id,\n",
        "            'client_secret': self.client_secret\n",
        "        }\n",
        "        response = requests.post(token_url, headers=headers, data=data)\n",
        "        return response.json()['access_token']\n",
        "\n",
        "    def get_response(self, url):\n",
        "        headers = {'authorization': f'Bearer {self.get_token()}'}\n",
        "        response = requests.get(url, headers=headers)\n",
        "        return response.json()"
      ],
      "metadata": {
        "id": "THOVuhN93K_3"
      },
      "execution_count": null,
      "outputs": []
    },
    {
      "cell_type": "code",
      "source": [
        "def collect_data():\n",
        "    try:\n",
        "        tdx = TDX(client_id, client_secret)\n",
        "        availability_response = tdx.get_response(AVAILABILITY_URL)\n",
        "        station_response = tdx.get_response(STATION_URL)\n",
        "        df_result = pd.DataFrame()\n",
        "        for station in station_response:\n",
        "            station_id = station['StationID']\n",
        "            station_name = station['StationName']['Zh_tw']\n",
        "            station_address = station['StationAddress']['Zh_tw']\n",
        "            bikes_capacity = station['BikesCapacity']\n",
        "            for avail in availability_response:\n",
        "                if avail['StationID'] == station_id:\n",
        "                    available_rent_bikes = avail['AvailableRentBikes']\n",
        "                    available_rent_electricbikes = avail['AvailableRentBikesDetail']['ElectricBikes']\n",
        "                    available_rent_generalbikes = avail['AvailableRentBikesDetail']['GeneralBikes']\n",
        "                    available_return_bikes = avail['AvailableReturnBikes']\n",
        "                    update_time = avail['UpdateTime']\n",
        "                    break\n",
        "            df_result = df_result.append({\n",
        "                'StationID': station_id,\n",
        "                'StationName': station_name,\n",
        "                'StationAddress': station_address,\n",
        "                'BikesCapacity': bikes_capacity,\n",
        "                'AvailableRentBikes': available_rent_bikes,\n",
        "                'ElectricBikes': available_rent_electricbikes,\n",
        "                'GeneralBikes': available_rent_generalbikes,\n",
        "                'AvailableReturnBikes': available_return_bikes,\n",
        "                'UpdateTime': update_time\n",
        "            }, ignore_index=True)\n",
        "        csv_path = '國立中山大學幾何中心周圍1公里Youbike站點即時狀態.csv'\n",
        "        if os.path.isfile(csv_path):\n",
        "            df_result.to_csv(csv_path, mode='a', header=False, index=False)\n",
        "        else:\n",
        "            df_result.to_csv(csv_path, mode='w', index=False)\n",
        "    except Exception as e:\n",
        "        print(f\"Error occurred: {e}\")"
      ],
      "metadata": {
        "id": "ofomu9C83Mg3"
      },
      "execution_count": null,
      "outputs": []
    },
    {
      "cell_type": "code",
      "source": [
        "def predict_zero_bikes_or_slots_with_arima(data):\n",
        "    stations_with_zero_rent = []\n",
        "    stations_with_zero_return = []\n",
        "\n",
        "    unique_stations = data['StationID'].unique()\n",
        "\n",
        "    for station in unique_stations:\n",
        "        station_data = data[data['StationID'] == station].reset_index(drop=True)\n",
        "\n",
        "\n",
        "        if len(station_data) < 5:\n",
        "            print(f\"Skipping station {station} due to insufficient data.\")\n",
        "            continue\n",
        "        model_rent = ARIMA(station_data['AvailableRentBikes'], order=(1,1,0))\n",
        "        model_rent_fit = model_rent.fit()\n",
        "        forecast_rent = model_rent_fit.forecast(steps=1)\n",
        "\n",
        "        model_return = ARIMA(station_data['AvailableReturnBikes'], order=(1,1,0))\n",
        "        model_return_fit = model_return.fit()\n",
        "        forecast_return = model_return_fit.forecast(steps=1)\n",
        "\n",
        "        if not station_data.empty:\n",
        "            if forecast_rent.iloc[0] <= 0.5:\n",
        "                 stations_with_zero_rent.append(station_data['StationName'].iloc[0])\n",
        "\n",
        "            if forecast_return.iloc[0] <= 0.5:\n",
        "                  stations_with_zero_return.append(station_data['StationName'].iloc[0])\n",
        "\n",
        "    return stations_with_zero_rent, stations_with_zero_return\n"
      ],
      "metadata": {
        "id": "3kpTrPkF3OnP"
      },
      "execution_count": null,
      "outputs": []
    },
    {
      "cell_type": "code",
      "source": [
        "if __name__ == \"__main__\":\n",
        "    while True:\n",
        "        collect_data()\n",
        "        data = pd.read_csv('國立中山大學幾何中心周圍1公里Youbike站點即時狀態.csv')\n",
        "\n",
        "        if len(data) < 50:\n",
        "            print(\"Waiting for more data...\")\n",
        "            time.sleep(600)\n",
        "            continue\n",
        "\n",
        "        stations_with_zero_rent, stations_with_zero_return = predict_zero_bikes_or_slots_with_arima(data)\n",
        "\n",
        "        print(\"Stations predicted to have zero bikes available for rent in the next 10 mins:\")\n",
        "        print(stations_with_zero_rent)\n",
        "        print(\"\\nStations predicted to have zero slots available for return in the next 10 mins:\")\n",
        "        print(stations_with_zero_return)\n",
        "\n",
        "        time.sleep(600)\n"
      ],
      "metadata": {
        "id": "QvfwrSQD669o"
      },
      "execution_count": null,
      "outputs": []
    }
  ]
}